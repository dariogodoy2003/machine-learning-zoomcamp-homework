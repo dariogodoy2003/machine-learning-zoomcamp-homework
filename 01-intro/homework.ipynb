{
 "cells": [
  {
   "cell_type": "code",
   "execution_count": 71,
   "id": "ebfaced5-1a12-4126-8c21-db743e834c56",
   "metadata": {},
   "outputs": [],
   "source": [
    "import pandas as pd\n",
    "import numpy as np"
   ]
  },
  {
   "cell_type": "code",
   "execution_count": 4,
   "id": "3ba50785-d75e-40ca-bb2e-407f8038724d",
   "metadata": {},
   "outputs": [],
   "source": [
    "df = pd.read_csv('https://raw.githubusercontent.com/alexeygrigorev/datasets/master/car_fuel_efficiency.csv')"
   ]
  },
  {
   "cell_type": "markdown",
   "id": "460e0e3d-c3b8-479b-83de-309d04f85ecd",
   "metadata": {},
   "source": [
    "**Q1** Pandas version"
   ]
  },
  {
   "cell_type": "code",
   "execution_count": 5,
   "id": "95cb2824-a19f-40af-91b1-f893d54369c6",
   "metadata": {},
   "outputs": [
    {
     "name": "stdout",
     "output_type": "stream",
     "text": [
      "2.3.1\n"
     ]
    }
   ],
   "source": [
    "print(pd.__version__)"
   ]
  },
  {
   "cell_type": "markdown",
   "id": "0b79cb95-54a0-4794-b876-f80e0ebc250c",
   "metadata": {},
   "source": [
    "**Q2** Records count"
   ]
  },
  {
   "cell_type": "code",
   "execution_count": 6,
   "id": "51a827e0-7d5f-4aab-997c-85b7b2d189b5",
   "metadata": {},
   "outputs": [
    {
     "name": "stdout",
     "output_type": "stream",
     "text": [
      "9704\n"
     ]
    }
   ],
   "source": [
    "print(df.shape[0])"
   ]
  },
  {
   "cell_type": "markdown",
   "id": "4eb4d2a2-c817-49e1-afbb-56ba876434a6",
   "metadata": {},
   "source": [
    "**Q3** Fuel types"
   ]
  },
  {
   "cell_type": "code",
   "execution_count": 26,
   "id": "d27d1701-c387-454d-9240-659de318a8d8",
   "metadata": {},
   "outputs": [
    {
     "data": {
      "text/plain": [
       "count         9704\n",
       "unique           2\n",
       "top       Gasoline\n",
       "freq          4898\n",
       "Name: fuel_type, dtype: object"
      ]
     },
     "execution_count": 26,
     "metadata": {},
     "output_type": "execute_result"
    }
   ],
   "source": [
    "df['fuel_type'].describe()"
   ]
  },
  {
   "cell_type": "markdown",
   "id": "fb19abe7-6b46-460e-b051-ae5bcbfb2076",
   "metadata": {},
   "source": [
    "**Q4** Missing values"
   ]
  },
  {
   "cell_type": "code",
   "execution_count": 23,
   "id": "a6cf4a06-bc87-43d1-8b09-6720ae52a0ad",
   "metadata": {},
   "outputs": [
    {
     "data": {
      "text/plain": [
       "engine_displacement      0\n",
       "num_cylinders          482\n",
       "horsepower             708\n",
       "vehicle_weight           0\n",
       "acceleration           930\n",
       "model_year               0\n",
       "origin                   0\n",
       "fuel_type                0\n",
       "drivetrain               0\n",
       "num_doors              502\n",
       "fuel_efficiency_mpg      0\n",
       "dtype: int64"
      ]
     },
     "execution_count": 23,
     "metadata": {},
     "output_type": "execute_result"
    }
   ],
   "source": [
    "df.isnull().sum()"
   ]
  },
  {
   "cell_type": "markdown",
   "id": "01c319b7-48ba-4932-bafb-a4cfd1bed0d9",
   "metadata": {},
   "source": [
    "**Q5** Max fuel efficiency"
   ]
  },
  {
   "cell_type": "code",
   "execution_count": 9,
   "id": "73f41444-3dee-4456-aa5d-740b46f2f675",
   "metadata": {},
   "outputs": [
    {
     "name": "stdout",
     "output_type": "stream",
     "text": [
      "23.76\n"
     ]
    }
   ],
   "source": [
    "print(df[df['origin']=='Asia']['fuel_efficiency_mpg'].max().round(2))"
   ]
  },
  {
   "cell_type": "markdown",
   "id": "73dfb821-7a96-4aaa-893e-fdf9e98b4852",
   "metadata": {},
   "source": [
    "**Q6** Median value of horsepower"
   ]
  },
  {
   "cell_type": "code",
   "execution_count": 12,
   "id": "44bb6222-c81a-4b25-9bf9-34de9894b26d",
   "metadata": {},
   "outputs": [
    {
     "name": "stdout",
     "output_type": "stream",
     "text": [
      "149.0\n"
     ]
    }
   ],
   "source": [
    "print(df['horsepower'].median())"
   ]
  },
  {
   "cell_type": "code",
   "execution_count": 21,
   "id": "5667f2b3-ef1b-47d2-9229-2fa5cf3b3202",
   "metadata": {},
   "outputs": [
    {
     "name": "stdout",
     "output_type": "stream",
     "text": [
      "152.0\n"
     ]
    }
   ],
   "source": [
    "print(df['horsepower'].value_counts().index[0])"
   ]
  },
  {
   "cell_type": "code",
   "execution_count": 38,
   "id": "319ca5ef-671e-4e5a-b3a2-081f37669eb2",
   "metadata": {},
   "outputs": [
    {
     "name": "stdout",
     "output_type": "stream",
     "text": [
      "152.0\n"
     ]
    }
   ],
   "source": [
    "most_frequent = df['horsepower'].value_counts().index[0]\n",
    "print(df['horsepower'].fillna(most_frequent).median())"
   ]
  },
  {
   "cell_type": "markdown",
   "id": "9b32a934-d167-4995-9898-c21233278649",
   "metadata": {},
   "source": [
    "**Q7** Sum of weights"
   ]
  },
  {
   "cell_type": "code",
   "execution_count": 99,
   "id": "0d4f9f46-d496-43e9-b1b8-52e1f86cc6ed",
   "metadata": {},
   "outputs": [
    {
     "name": "stdout",
     "output_type": "stream",
     "text": [
      "0.52\n"
     ]
    }
   ],
   "source": [
    "df[df['origin']=='Asia']\n",
    "df[df['origin']=='Asia'][['vehicle_weight','model_year']]\n",
    "df[df['origin']=='Asia'][['vehicle_weight','model_year']].head(7)\n",
    "X = df[df['origin']=='Asia'][['vehicle_weight','model_year']].head(7)\n",
    "X = np.array(X)\n",
    "XTX = np.dot(X.T,X)\n",
    "XTX_inv = np.linalg.inv(XTX)\n",
    "y = np.array([1100, 1300, 800, 900, 1000, 1100, 1200])\n",
    "w = np.dot(np.dot(XTX_inv,X.T),y)\n",
    "print(sum(w).round(2))"
   ]
  }
 ],
 "metadata": {
  "kernelspec": {
   "display_name": "Python 3 (ipykernel)",
   "language": "python",
   "name": "python3"
  },
  "language_info": {
   "codemirror_mode": {
    "name": "ipython",
    "version": 3
   },
   "file_extension": ".py",
   "mimetype": "text/x-python",
   "name": "python",
   "nbconvert_exporter": "python",
   "pygments_lexer": "ipython3",
   "version": "3.12.1"
  }
 },
 "nbformat": 4,
 "nbformat_minor": 5
}
